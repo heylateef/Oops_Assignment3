{
 "cells": [
  {
   "cell_type": "markdown",
   "metadata": {},
   "source": [
    "Q1. What is Abstraction in OOps? Explain with an example."
   ]
  },
  {
   "cell_type": "markdown",
   "metadata": {},
   "source": [
    "ANS:Abstraction in OOP means simplifying things by focusing on what they do rather than how they do it. It's like using a TV remote to change channels without knowing the technical stuff inside the TV.\n"
   ]
  },
  {
   "cell_type": "markdown",
   "metadata": {},
   "source": [
    "Eaxmple:In the example of shapes, abstraction allows us to have a basic shape blueprint (abstract class) without worrying about the specific calculations for each shape. The concrete shapes (Circle and Square) inherit from this blueprint and provide their unique ways of calculating area and perimeter."
   ]
  },
  {
   "cell_type": "code",
   "execution_count": null,
   "metadata": {},
   "outputs": [],
   "source": [
    "class Shape:\n",
    "    def calculate_area(self):\n",
    "        pass\n",
    "    def Calculate_perimeter(self):\n",
    "        pass\n",
    "#inhereating Shape class to cocrete classes for abstraction\n",
    "class Circle(Shape):\n",
    "    def __init__(self,radius):\n",
    "        self.radius=radius\n",
    "    #defining the method of calculating area and perimeter using formula\n",
    "    def calculate_area(self):\n",
    "        return 3.14*self.radius**2\n",
    "    def calculate_Perimeter(self):\n",
    "        return  2 * 3.14 * self.radius\n",
    "class square(Shape):\n",
    "    def __init__(self,side):\n",
    "        self.side=side\n",
    "    #defining the method of calculating area and perimeter\n",
    "    def calculate_area(self):\n",
    "         return self.side**2\n",
    "    def Calculate_perimeter(self):\n",
    "        return 4*self.side\n",
    "    \n",
    "get_circle=Circle(5)\n",
    "print (\"Area of the Circle is : \",get_circle.calculate_area() )\n",
    "print (\"Perimeter of the circle is : \",get_circle.calculate_Perimeter())\n",
    "get_square=square(4)\n",
    "print(\"Area Of Square:\", get_square.calculate_area())\n",
    "print(\"Perimeter OF Square\", get_square.Calculate_perimeter())\n",
    "\n",
    "    \n"
   ]
  },
  {
   "cell_type": "markdown",
   "metadata": {},
   "source": [
    "Q2. Differentiate between Abstraction and Encapsulation. Explain with an example."
   ]
  },
  {
   "cell_type": "markdown",
   "metadata": {},
   "source": [
    "Abstraction:\n",
    "Abstraction is about simplifying things by focusing on what they do rather than how they do it. It's like using a TV remote without knowing how the remote internally works, but still being able to change channels.\n",
    "\n",
    "Example:\n",
    "Imagine you have a bunch of shapes, like circles and squares. Abstraction allows you to have a general idea of a shape without knowing all the specific details for calculating their areas and perimeters. You use a common blueprint (abstract class) for shapes, and each shape (like Circle or Square) fills in the specific calculations while keeping the common interface.\n",
    "\n",
    "Encapsulation:\n",
    "Encapsulation is like putting your things in a safe box so that others can't mess with them directly. It's about bundling data and the methods that work with that data together inside a class and controlling how outside code can interact with them.\n",
    "\n",
    "Example:\n",
    "Think of a Bank Account. Encapsulation ensures that the account balance is protected and can only be accessed or modified through specific methods provided by the Bank Account class. This way, no one can directly change the balance without using the proper methods, providing security for the account data."
   ]
  },
  {
   "cell_type": "code",
   "execution_count": null,
   "metadata": {},
   "outputs": [],
   "source": [
    "#Abstraction Example:\n",
    "class Shape:\n",
    "    def calculate_area(self):\n",
    "        pass\n",
    "    def Calculate_perimeter(self):\n",
    "        pass\n",
    "#inhereating Shape class to cocrete classes for abstraction\n",
    "class Circle(Shape):\n",
    "    def __init__(self,radius):\n",
    "        self.radius=radius\n",
    "    #defining the method of calculating area and perimeter using formula\n",
    "    def calculate_area(self):\n",
    "        return 3.14*self.radius**2\n",
    "    def calculate_Perimeter(self):\n",
    "        return  2 * 3.14 * self.radius\n",
    "class square(Shape):\n",
    "    def __init__(self,side):\n",
    "        self.side=side\n",
    "    #defining the method of calculating area and perimeter\n",
    "    def calculate_area(self):\n",
    "         return self.side**2\n",
    "    def Calculate_perimeter(self):\n",
    "        return 4*self.side\n",
    "    \n",
    "get_circle=Circle(5)\n",
    "print (\"Area of the Circle is : \",get_circle.calculate_area() )\n",
    "print (\"Perimeter of the circle is : \",get_circle.calculate_Perimeter())\n",
    "get_square=square(4)\n",
    "print(\"Area Of Square:\", get_square.calculate_area())\n",
    "print(\"Perimeter OF Square\", get_square.Calculate_perimeter())\n",
    "\n",
    "    \n"
   ]
  },
  {
   "cell_type": "code",
   "execution_count": null,
   "metadata": {},
   "outputs": [],
   "source": [
    "#Encapsulation Example:\n",
    "class BankAccount:\n",
    "    def __init__(self, account_number, account_holder, initial_balance=0):\n",
    "        self.account_number = account_number\n",
    "        self.account_holder = account_holder\n",
    "        self._balance = initial_balance  # The balance is marked as private with a single underscore this is called Encapsulation\n",
    "\n",
    "    def get_balance(self):\n",
    "        return self._balance\n",
    "\n",
    "    def deposit(self, amount):\n",
    "        if amount > 0:\n",
    "            self._balance += amount\n",
    "            print(f\"Deposited {amount}. Current balance: {self._balance}\")\n",
    "        else:\n",
    "            print(\"Deposit amount must be greater than 0.\")\n",
    "\n",
    "    def withdraw(self, amount):\n",
    "        if amount > 0 and amount <= self._balance:\n",
    "            self._balance -= amount\n",
    "            print(f\"Withdrew {amount}. Current balance: {self._balance}\")\n",
    "        else:\n",
    "            print(\"Invalid withdrawal amount.\")\n",
    "\n",
    "# Creating a bank account instance\n",
    "my_account = BankAccount(\"12345678\", \"Syed Rahman Ur Lateef\", 1000)\n",
    "\n",
    "# Accessing the balance using the get_balance() method\n",
    "print(\"Current balance:\", my_account.get_balance())\n",
    "my_account.deposit(500)\n",
    "my_account.withdraw(200)\n",
    "\n"
   ]
  },
  {
   "cell_type": "markdown",
   "metadata": {},
   "source": [
    "Q3. What is abc module in python? Why is it used?"
   ]
  },
  {
   "cell_type": "markdown",
   "metadata": {},
   "source": [
    "ANS:The abc module is a tool in Python that helps us define special classes called \"Abstract Base Classes.\" These classes are like blueprints that other classes must follow. They cannot be used on their own but provide rules for other classes to follow.\n",
    "\n",
    "We use the abc module when we want to enforce a common structure among related classes. By creating abstract methods inside these abstract base classes, we ensure that all the other classes inheriting from them must have those methods too."
   ]
  },
  {
   "cell_type": "code",
   "execution_count": null,
   "metadata": {},
   "outputs": [],
   "source": [
    "#Example:\n",
    "from abc import ABC, abstractmethod\n",
    "class Animal(ABC):\n",
    "    @abstractmethod\n",
    "    def make_sound(self):\n",
    "        pass\n",
    "class Dog(Animal):\n",
    "    def make_sound(self):\n",
    "        return \"Woof!\"\n",
    "class Cat(Animal):\n",
    "    def make_sound(self):\n",
    "        return \"Meow!\"\n",
    "dog = Dog()\n",
    "cat = Cat()\n",
    "print(dog.make_sound())\n",
    "print(cat.make_sound())  \n"
   ]
  },
  {
   "cell_type": "markdown",
   "metadata": {},
   "source": [
    "Q4. How can we achieve data abstraction?"
   ]
  },
  {
   "cell_type": "markdown",
   "metadata": {},
   "source": [
    "ANS:Data abstraction is like using a vending machine. When you want to get a snack, you don't need to know how the machine works internally. Instead, you use its buttons and get the item you want.\n",
    "\n",
    "Similarly, in programming, data abstraction is about hiding the complicated details of how things work inside a class, and providing simple methods for interacting with the data. It's like using a user-friendly interface to access and modify information without worrying about the complex stuff behind the scenes.\n",
    "\n",
    "In the bank account example, data abstraction allows us to manage our account using methods like deposit() and withdraw(), without needing to know the nitty-gritty details of how the balance is stored or updated inside the bank account class. It makes our code easier to use, understand, and maintain."
   ]
  },
  {
   "cell_type": "code",
   "execution_count": null,
   "metadata": {},
   "outputs": [],
   "source": [
    "#Example:\n",
    "class BankAccount:\n",
    "    def __init__(self, account_number, account_holder, initial_balance=0):\n",
    "        self._account_number = account_number\n",
    "        self._account_holder = account_holder\n",
    "        self._balance = initial_balance \n",
    "\n",
    "    def get_balance(self):\n",
    "        return self._balance\n",
    "\n",
    "    def deposit(self, amount):\n",
    "        if amount > 0:\n",
    "            self._balance += amount\n",
    "            print(f\"Deposited {amount}. Current balance: {self._balance}\")\n",
    "        else:\n",
    "            print(\"Deposit amount must be greater than 0.\")\n",
    "\n",
    "    def withdraw(self, amount):\n",
    "        if amount > 0 and amount <= self._balance:\n",
    "            self._balance -= amount\n",
    "            print(f\"Withdrew {amount}. Current balance: {self._balance}\")\n",
    "        else:\n",
    "            print(\"Invalid withdrawal amount.\")\n",
    "\n",
    "# Creating a bank account instance\n",
    "my_account = BankAccount(\"12345678\", \"Syed Rahman Ur Lateef\", 1000)\n",
    "\n",
    "# Accessing the balance using the get_balance() method\n",
    "print(\"Current balance:\", my_account.get_balance())\n",
    "my_account.deposit(200)\n",
    "my_account.withdraw(600)\n",
    "\n"
   ]
  },
  {
   "cell_type": "markdown",
   "metadata": {},
   "source": [
    "Q5. Can we create an instance of an abstract class? Explain your answer."
   ]
  },
  {
   "cell_type": "markdown",
   "metadata": {},
   "source": [
    "ANS:No, we can't directly create an instance of an abstract class. Abstract classes are like templates that show what a class should have, but they don't provide the actual details. They have some methods that need to be filled in by other classes before they can be used.\n",
    "\n",
    "Imagine an abstract class as a puzzle with missing pieces. You can't complete the puzzle by itself; you need other classes to fill in those missing pieces. Once those pieces are filled, you can create instances of the completed puzzle (the concrete subclasses).\n",
    "\n",
    "So, abstract classes serve as a blueprint, and they need other classes to complete them before you can make real objects from them."
   ]
  },
  {
   "cell_type": "code",
   "execution_count": null,
   "metadata": {},
   "outputs": [],
   "source": [
    "#Example:\n",
    "from abc import ABC, abstractmethod\n",
    "class Animal(ABC):\n",
    "    @abstractmethod\n",
    "    def make_sound(self):\n",
    "        pass\n",
    "class Dog(Animal):\n",
    "    def make_sound(self):\n",
    "        return \"Woof!\"\n",
    "class Cat(Animal):\n",
    "    def make_sound(self):\n",
    "        return \"Meow!\"\n",
    "dog = Dog()\n",
    "cat = Cat()\n",
    "animal=Animal() #This Will raise an error\n",
    "print(dog.make_sound())\n",
    "print(cat.make_sound())  \n"
   ]
  }
 ],
 "metadata": {
  "kernelspec": {
   "display_name": "Python 3",
   "language": "python",
   "name": "python3"
  },
  "language_info": {
   "codemirror_mode": {
    "name": "ipython",
    "version": 3
   },
   "file_extension": ".py",
   "mimetype": "text/x-python",
   "name": "python",
   "nbconvert_exporter": "python",
   "pygments_lexer": "ipython3",
   "version": "3.11.2"
  },
  "orig_nbformat": 4
 },
 "nbformat": 4,
 "nbformat_minor": 2
}
